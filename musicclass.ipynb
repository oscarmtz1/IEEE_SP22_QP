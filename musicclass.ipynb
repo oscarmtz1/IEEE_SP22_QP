{
 "cells": [
  {
   "cell_type": "markdown",
   "metadata": {},
   "source": [
    "## Music genre classifier with TensorFlow"
   ]
  },
  {
   "cell_type": "markdown",
   "metadata": {},
   "source": [
    "Author - Sagnick Bhar \n",
    "The objective of this project is to classify 30 sec wav files by genre using a TensorFLow LSTM model. The GTZAN dataset can be found here:\n",
    "\n",
    "https://www.kaggle.com/andradaolteanu/gtzan-dataset-music-genre-classification\n",
    "\n",
    "To classify audio samples, we will preprocess them by calculating their MFCC, which is a temporal representation of the energy for each perceived frequency band. In this case, we are choosing 13 bands."
   ]
  },
  {
   "cell_type": "code",
   "execution_count": 3,
   "metadata": {
    "execution": {
     "iopub.execute_input": "2022-05-01T14:44:22.06151Z",
     "iopub.status.busy": "2022-05-01T14:44:22.061176Z",
     "iopub.status.idle": "2022-05-01T14:44:27.802848Z",
     "shell.execute_reply": "2022-05-01T14:44:27.802023Z",
     "shell.execute_reply.started": "2022-05-01T14:44:22.061424Z"
    }
   },
   "outputs": [],
   "source": [
    "import os\n",
    "import json\n",
    "import numpy as np\n",
    "import librosa\n",
    "import matplotlib.pyplot as plt\n",
    "from sklearn.model_selection import train_test_split\n",
    "import tensorflow as tf"
   ]
  },
  {
   "cell_type": "code",
   "execution_count": 4,
   "metadata": {
    "execution": {
     "iopub.execute_input": "2022-05-01T14:44:27.804668Z",
     "iopub.status.busy": "2022-05-01T14:44:27.804425Z",
     "iopub.status.idle": "2022-05-01T14:44:27.810665Z",
     "shell.execute_reply": "2022-05-01T14:44:27.810009Z",
     "shell.execute_reply.started": "2022-05-01T14:44:27.804634Z"
    }
   },
   "outputs": [],
   "source": [
    "SOURCE_PATH = 'data\\genres_original'\n",
    "\n",
    "# Path to labels and processed data file, json format.\n",
    "JSON_PATH = 'data.json'\n",
    "\n",
    "# Sampling rate.\n",
    "sr = 22050\n",
    "\n",
    "# Let's make sure all files have the same amount of samples and pick a duration right under 30 seconds.\n",
    "TOTAL_SAMPLES = 29 * sr\n",
    "\n",
    "# The dataset contains 999 files. Lets make it bigger. \n",
    "# X amount of slices => X times more training examples.\n",
    "NUM_SLICES = 10\n",
    "SAMPLES_PER_SLICE = int(TOTAL_SAMPLES / NUM_SLICES)"
   ]
  },
  {
   "cell_type": "code",
   "execution_count": 5,
   "metadata": {
    "execution": {
     "iopub.execute_input": "2022-05-01T14:44:31.004251Z",
     "iopub.status.busy": "2022-05-01T14:44:31.003619Z",
     "iopub.status.idle": "2022-05-01T14:44:31.013902Z",
     "shell.execute_reply": "2022-05-01T14:44:31.013155Z",
     "shell.execute_reply.started": "2022-05-01T14:44:31.004214Z"
    }
   },
   "outputs": [],
   "source": [
    "def preprocess_data(source_path, json_path):\n",
    "\n",
    "    # Let's create a dictionary of labels and processed data.\n",
    "    mydict = {\n",
    "        \"labels\": [],\n",
    "        \"mfcc\": []\n",
    "        }\n",
    "\n",
    "    # Let's browse each file, slice it and generate the 13 band mfcc for each slice.\n",
    "    for i, (dirpath, dirnames, filenames) in enumerate(os.walk(source_path)):\n",
    "        for file in filenames:\n",
    "            # exclude a corrupted wav file that makes everything crash.\n",
    "            if os.path.join(dirpath, file) != 'data\\genres_original\\jazz\\jazz.00054.wav':\n",
    "                song, sr = librosa.load(os.path.join(dirpath, file), duration=29)\n",
    "                for s in range(NUM_SLICES):\n",
    "                    start_sample = SAMPLES_PER_SLICE * s\n",
    "                    end_sample = start_sample + SAMPLES_PER_SLICE\n",
    "                    mfcc = librosa.feature.mfcc(y=song[start_sample:end_sample], sr=sr, n_mfcc=13)\n",
    "                    mfcc = mfcc.T\n",
    "                    mydict[\"labels\"].append(i-1)\n",
    "                    mydict[\"mfcc\"].append(mfcc.tolist())\n",
    "            else:\n",
    "                pass\n",
    "\n",
    "    # Let's write the dictionary in a json file.    \n",
    "    with open(json_path, 'w') as f:\n",
    "        json.dump(mydict, f)\n",
    "    f.close()"
   ]
  },
  {
   "cell_type": "code",
   "execution_count": 6,
   "metadata": {
    "execution": {
     "iopub.execute_input": "2022-05-01T14:44:32.723219Z",
     "iopub.status.busy": "2022-05-01T14:44:32.722919Z",
     "iopub.status.idle": "2022-05-01T14:44:32.728823Z",
     "shell.execute_reply": "2022-05-01T14:44:32.727988Z",
     "shell.execute_reply.started": "2022-05-01T14:44:32.723181Z"
    }
   },
   "outputs": [],
   "source": [
    "def load_data(json_path):\n",
    "\n",
    "    with open(json_path, 'r') as f:\n",
    "        data = json.load(f)\n",
    "    f.close()\n",
    "\n",
    "    # Let's load our data into numpy arrays for TensorFlow compatibility.\n",
    "    X = np.array(data[\"mfcc\"])\n",
    "    y = np.array(data[\"labels\"])\n",
    "\n",
    "    return X, y"
   ]
  },
  {
   "cell_type": "code",
   "execution_count": 7,
   "metadata": {
    "execution": {
     "iopub.execute_input": "2022-05-01T14:44:34.037911Z",
     "iopub.status.busy": "2022-05-01T14:44:34.03731Z",
     "iopub.status.idle": "2022-05-01T14:44:34.048331Z",
     "shell.execute_reply": "2022-05-01T14:44:34.047393Z",
     "shell.execute_reply.started": "2022-05-01T14:44:34.037869Z"
    }
   },
   "outputs": [],
   "source": [
    "def prepare_datasets(inputs, targets, split_size):\n",
    "    \n",
    "    # Creating a validation set and a test set.\n",
    "    inputs_train, inputs_val, targets_train, targets_val = train_test_split(inputs, targets, test_size=split_size)\n",
    "    inputs_train, inputs_test, targets_train, targets_test = train_test_split(inputs_train, targets_train, test_size=split_size)\n",
    "    \n",
    "    # Our CNN model expects 3D input shape.\n",
    "    inputs_train = inputs_train[..., np.newaxis]\n",
    "    inputs_val = inputs_val[..., np.newaxis]\n",
    "    inputs_test = inputs_test[..., np.newaxis]\n",
    "    \n",
    "    return inputs_train, inputs_val, inputs_test, targets_train, targets_val, targets_test"
   ]
  },
  {
   "cell_type": "code",
   "execution_count": 8,
   "metadata": {
    "execution": {
     "iopub.execute_input": "2022-05-01T14:44:35.1597Z",
     "iopub.status.busy": "2022-05-01T14:44:35.159093Z",
     "iopub.status.idle": "2022-05-01T14:44:35.168315Z",
     "shell.execute_reply": "2022-05-01T14:44:35.167603Z",
     "shell.execute_reply.started": "2022-05-01T14:44:35.159654Z"
    }
   },
   "outputs": [],
   "source": [
    "def design_model(input_shape):\n",
    "\n",
    "    # Let's design the model architecture.\n",
    "    model = tf.keras.models.Sequential([\n",
    "        \n",
    "        tf.keras.layers.Conv2D(32, (3,3), activation='relu', input_shape=input_shape),\n",
    "        tf.keras.layers.MaxPooling2D((3,3), strides=(2,2), padding='same'),\n",
    "        tf.keras.layers.BatchNormalization(),\n",
    "        \n",
    "        tf.keras.layers.Conv2D(32, (3,3), activation='relu'),\n",
    "        tf.keras.layers.MaxPooling2D((3,3), strides=(2,2), padding='same'),\n",
    "        tf.keras.layers.BatchNormalization(),\n",
    "        \n",
    "        tf.keras.layers.Conv2D(32, (2,2), activation='relu'),\n",
    "        tf.keras.layers.MaxPooling2D((3,3), strides=(2,2), padding='same'),\n",
    "        tf.keras.layers.BatchNormalization(),\n",
    "        tf.keras.layers.Dropout(0.3),\n",
    "        \n",
    "        tf.keras.layers.Flatten(),\n",
    "        tf.keras.layers.Dense(64, activation='relu'), \n",
    "        tf.keras.layers.Dense(len(np.unique(targets)), activation='softmax')\n",
    "    ])\n",
    "\n",
    "    return model"
   ]
  },
  {
   "cell_type": "code",
   "execution_count": 9,
   "metadata": {
    "execution": {
     "iopub.execute_input": "2022-05-01T14:44:44.681212Z",
     "iopub.status.busy": "2022-05-01T14:44:44.680933Z",
     "iopub.status.idle": "2022-05-01T14:44:44.687659Z",
     "shell.execute_reply": "2022-05-01T14:44:44.686265Z",
     "shell.execute_reply.started": "2022-05-01T14:44:44.681176Z"
    }
   },
   "outputs": [],
   "source": [
    "def make_prediction(model, X, y, idx):\n",
    "    \n",
    "    genre_dict = {\n",
    "        0 : \"blues\",\n",
    "        1 : \"classical\",\n",
    "        2 : \"country\",\n",
    "        3 : \"disco\",\n",
    "        4 : \"hiphop\",\n",
    "        5 : \"jazz\",\n",
    "        6 : \"metal\",\n",
    "        7 : \"pop\",\n",
    "        8 : \"reggae\",\n",
    "        9 : \"rock\",\n",
    "        }\n",
    "        \n",
    "    predictions = model.predict(X)\n",
    "    genre = np.argmax(predictions[idx])\n",
    "    \n",
    "    print(\"\\n---Now testing the model for one audio file---\\nThe model predicts: {}, and ground truth is: {}.\\n\".format(genre_dict[genre], genre_dict[y[idx]]))"
   ]
  },
  {
   "cell_type": "code",
   "execution_count": 10,
   "metadata": {
    "execution": {
     "iopub.execute_input": "2022-05-01T14:44:46.551104Z",
     "iopub.status.busy": "2022-05-01T14:44:46.550851Z",
     "iopub.status.idle": "2022-05-01T14:44:46.557758Z",
     "shell.execute_reply": "2022-05-01T14:44:46.556824Z",
     "shell.execute_reply.started": "2022-05-01T14:44:46.551077Z"
    }
   },
   "outputs": [],
   "source": [
    "def plot_performance(hist):\n",
    "    \n",
    "    acc = hist.history['acc']\n",
    "    val_acc = hist.history['val_acc']\n",
    "    loss = hist.history['loss']\n",
    "    val_loss = hist.history['val_loss']\n",
    "\n",
    "    epochs = range(len(acc))\n",
    "\n",
    "    plt.plot(epochs, acc, 'r', label='Training accuracy')\n",
    "    plt.plot(epochs, val_acc, 'b', label='Validation accuracy')\n",
    "    plt.title('Training and validation accuracy')\n",
    "    plt.legend()\n",
    "    plt.figure()\n",
    "\n",
    "    plt.plot(epochs, loss, 'r', label='Training Loss')\n",
    "    plt.plot(epochs, val_loss, 'b', label='Validation Loss')\n",
    "    plt.title('Training and validation loss')\n",
    "    plt.legend()\n",
    "\n",
    "    plt.show()"
   ]
  },
  {
   "cell_type": "code",
   "execution_count": 11,
   "metadata": {
    "execution": {
     "iopub.execute_input": "2022-05-01T14:44:50.734472Z",
     "iopub.status.busy": "2022-05-01T14:44:50.733919Z",
     "iopub.status.idle": "2022-05-01T14:47:03.519318Z",
     "shell.execute_reply": "2022-05-01T14:47:03.518259Z",
     "shell.execute_reply.started": "2022-05-01T14:44:50.734431Z"
    }
   },
   "outputs": [
    {
     "name": "stdout",
     "output_type": "stream",
     "text": [
      "Model: \"sequential\"\n",
      "_________________________________________________________________\n",
      " Layer (type)                Output Shape              Param #   \n",
      "=================================================================\n",
      " conv2d (Conv2D)             (None, 123, 11, 32)       320       \n",
      "                                                                 \n",
      " max_pooling2d (MaxPooling2D  (None, 62, 6, 32)        0         \n",
      " )                                                               \n",
      "                                                                 \n",
      " batch_normalization (BatchN  (None, 62, 6, 32)        128       \n",
      " ormalization)                                                   \n",
      "                                                                 \n",
      " conv2d_1 (Conv2D)           (None, 60, 4, 32)         9248      \n",
      "                                                                 \n",
      " max_pooling2d_1 (MaxPooling  (None, 30, 2, 32)        0         \n",
      " 2D)                                                             \n",
      "                                                                 \n",
      " batch_normalization_1 (Batc  (None, 30, 2, 32)        128       \n",
      " hNormalization)                                                 \n",
      "                                                                 \n",
      " conv2d_2 (Conv2D)           (None, 29, 1, 32)         4128      \n",
      "                                                                 \n",
      " max_pooling2d_2 (MaxPooling  (None, 15, 1, 32)        0         \n",
      " 2D)                                                             \n",
      "                                                                 \n",
      " batch_normalization_2 (Batc  (None, 15, 1, 32)        128       \n",
      " hNormalization)                                                 \n",
      "                                                                 \n",
      " dropout (Dropout)           (None, 15, 1, 32)         0         \n",
      "                                                                 \n",
      " flatten (Flatten)           (None, 480)               0         \n",
      "                                                                 \n",
      " dense (Dense)               (None, 64)                30784     \n",
      "                                                                 \n",
      " dense_1 (Dense)             (None, 10)                650       \n",
      "                                                                 \n",
      "=================================================================\n",
      "Total params: 45,514\n",
      "Trainable params: 45,322\n",
      "Non-trainable params: 192\n",
      "_________________________________________________________________\n"
     ]
    },
    {
     "name": "stderr",
     "output_type": "stream",
     "text": [
      "D:\\Anaconda\\lib\\site-packages\\keras\\optimizers\\optimizer_v2\\rmsprop.py:135: UserWarning: The `lr` argument is deprecated, use `learning_rate` instead.\n",
      "  super(RMSprop, self).__init__(name, **kwargs)\n"
     ]
    },
    {
     "name": "stdout",
     "output_type": "stream",
     "text": [
      "Epoch 1/30\n",
      "200/200 [==============================] - 13s 49ms/step - loss: 1.6019 - acc: 0.4419 - val_loss: 1.9890 - val_acc: 0.3564\n",
      "Epoch 2/30\n",
      "200/200 [==============================] - 9s 44ms/step - loss: 1.1888 - acc: 0.5741 - val_loss: 1.2728 - val_acc: 0.5586\n",
      "Epoch 3/30\n",
      "200/200 [==============================] - 9s 47ms/step - loss: 1.0296 - acc: 0.6366 - val_loss: 1.0077 - val_acc: 0.6281\n",
      "Epoch 4/30\n",
      "200/200 [==============================] - 11s 55ms/step - loss: 0.9104 - acc: 0.6715 - val_loss: 0.9974 - val_acc: 0.6507\n",
      "Epoch 5/30\n",
      "200/200 [==============================] - 11s 54ms/step - loss: 0.8156 - acc: 0.7150 - val_loss: 0.8567 - val_acc: 0.7047\n",
      "Epoch 6/30\n",
      "200/200 [==============================] - 11s 54ms/step - loss: 0.7377 - acc: 0.7394 - val_loss: 0.8905 - val_acc: 0.6882\n",
      "Epoch 7/30\n",
      "200/200 [==============================] - 11s 55ms/step - loss: 0.6739 - acc: 0.7662 - val_loss: 0.7988 - val_acc: 0.7327\n",
      "Epoch 8/30\n",
      "200/200 [==============================] - 11s 55ms/step - loss: 0.6364 - acc: 0.7707 - val_loss: 0.8517 - val_acc: 0.7132\n",
      "Epoch 9/30\n",
      "200/200 [==============================] - 9s 47ms/step - loss: 0.5852 - acc: 0.7931 - val_loss: 0.8086 - val_acc: 0.7172\n",
      "Epoch 10/30\n",
      "200/200 [==============================] - 9s 44ms/step - loss: 0.5418 - acc: 0.8098 - val_loss: 0.7274 - val_acc: 0.7563\n",
      "Epoch 11/30\n",
      "200/200 [==============================] - 9s 44ms/step - loss: 0.5137 - acc: 0.8232 - val_loss: 0.8249 - val_acc: 0.7327\n",
      "Epoch 12/30\n",
      "200/200 [==============================] - 9s 44ms/step - loss: 0.4981 - acc: 0.8203 - val_loss: 0.8620 - val_acc: 0.7182\n",
      "Epoch 13/30\n",
      "200/200 [==============================] - 9s 43ms/step - loss: 0.4650 - acc: 0.8405 - val_loss: 0.7809 - val_acc: 0.7558\n",
      "Epoch 14/30\n",
      "200/200 [==============================] - 9s 44ms/step - loss: 0.4288 - acc: 0.8511 - val_loss: 0.8336 - val_acc: 0.7442\n",
      "Epoch 15/30\n",
      "200/200 [==============================] - 9s 46ms/step - loss: 0.4162 - acc: 0.8500 - val_loss: 0.8203 - val_acc: 0.7292\n",
      "Epoch 16/30\n",
      "200/200 [==============================] - 9s 44ms/step - loss: 0.4064 - acc: 0.8569 - val_loss: 1.0356 - val_acc: 0.6872\n",
      "Epoch 17/30\n",
      "200/200 [==============================] - 9s 45ms/step - loss: 0.3820 - acc: 0.8652 - val_loss: 0.7903 - val_acc: 0.7583\n",
      "Epoch 18/30\n",
      "200/200 [==============================] - 9s 43ms/step - loss: 0.3642 - acc: 0.8684 - val_loss: 0.8379 - val_acc: 0.7523\n",
      "Epoch 19/30\n",
      "200/200 [==============================] - 9s 44ms/step - loss: 0.3404 - acc: 0.8774 - val_loss: 0.8107 - val_acc: 0.7497\n",
      "Epoch 20/30\n",
      "200/200 [==============================] - 9s 44ms/step - loss: 0.3296 - acc: 0.8847 - val_loss: 0.8575 - val_acc: 0.7528\n",
      "Epoch 21/30\n",
      "200/200 [==============================] - 9s 43ms/step - loss: 0.3189 - acc: 0.8872 - val_loss: 0.7102 - val_acc: 0.7873\n",
      "Epoch 22/30\n",
      "200/200 [==============================] - 9s 47ms/step - loss: 0.3202 - acc: 0.8868 - val_loss: 0.7259 - val_acc: 0.7903\n",
      "Epoch 23/30\n",
      "200/200 [==============================] - 9s 43ms/step - loss: 0.2986 - acc: 0.8955 - val_loss: 0.7234 - val_acc: 0.7928\n",
      "Epoch 24/30\n",
      "200/200 [==============================] - 9s 43ms/step - loss: 0.2715 - acc: 0.9038 - val_loss: 0.9293 - val_acc: 0.7543\n",
      "Epoch 25/30\n",
      "200/200 [==============================] - 9s 43ms/step - loss: 0.2927 - acc: 0.8985 - val_loss: 0.7678 - val_acc: 0.7698\n",
      "Epoch 26/30\n",
      "200/200 [==============================] - 9s 44ms/step - loss: 0.2579 - acc: 0.9065 - val_loss: 0.7502 - val_acc: 0.7738\n",
      "Epoch 27/30\n",
      "200/200 [==============================] - 9s 43ms/step - loss: 0.2523 - acc: 0.9124 - val_loss: 0.8547 - val_acc: 0.7678\n",
      "Epoch 28/30\n",
      "200/200 [==============================] - 9s 43ms/step - loss: 0.2519 - acc: 0.9132 - val_loss: 0.6822 - val_acc: 0.7943\n",
      "Epoch 29/30\n",
      "200/200 [==============================] - 9s 45ms/step - loss: 0.2393 - acc: 0.9127 - val_loss: 1.0223 - val_acc: 0.7437\n",
      "Epoch 30/30\n",
      "200/200 [==============================] - 10s 48ms/step - loss: 0.2464 - acc: 0.9155 - val_loss: 0.7671 - val_acc: 0.7838\n"
     ]
    },
    {
     "data": {
      "image/png": "[encoded data removed]",
      "text/plain": [
       "<Figure size 432x288 with 1 Axes>"
      ]
     },
     "metadata": {
      "needs_background": "light"
     },
     "output_type": "display_data"
    },
    {
     "data": {
      "image/png": "[encoded data removed]",
      "text/plain": [
       "<Figure size 432x288 with 1 Axes>"
      ]
     },
     "metadata": {
      "needs_background": "light"
     },
     "output_type": "display_data"
    },
    {
     "name": "stdout",
     "output_type": "stream",
     "text": [
      "50/50 [==============================] - 1s 12ms/step\n",
      "\n",
      "---Now testing the model for one audio file---\n",
      "The model predicts: classical, and ground truth is: classical.\n",
      "\n"
     ]
    }
   ],
   "source": [
    "if __name__ == \"__main__\":\n",
    "\n",
    "    preprocess_data(source_path=SOURCE_PATH, json_path=JSON_PATH)\n",
    "    \n",
    "    inputs, targets = load_data(json_path=JSON_PATH)\n",
    "    \n",
    "    Xtrain, Xval, Xtest, ytrain, yval, ytest = prepare_datasets(inputs, targets, 0.2)\n",
    "\n",
    "    input_shape = (Xtrain.shape[1], Xtrain.shape[2], 1)\n",
    "    model = design_model(input_shape)\n",
    "\n",
    "    # Selection of the optimizer, loss type and metrics for performance evaluation.\n",
    "    model.compile(optimizer = tf.keras.optimizers.RMSprop(lr=0.001),\n",
    "                     loss='sparse_categorical_crossentropy',\n",
    "                     metrics = ['acc']\n",
    "                     )\n",
    "\n",
    "    model.summary()\n",
    "\n",
    "    #Training the model.\n",
    "    history = model.fit(Xtrain, ytrain,\n",
    "                        validation_data=(Xval, yval),\n",
    "                        epochs=30,\n",
    "                        batch_size=32\n",
    "                        )\n",
    "\n",
    "    plot_performance(history)\n",
    "\n",
    "    # Testing the model on never seen before data.\n",
    "    make_prediction(model, Xtest, ytest, 24)"
   ]
  },
  {
   "cell_type": "markdown",
   "metadata": {},
   "source": [
    "**The End**"
   ]
  },
  {
   "cell_type": "code",
   "execution_count": 20,
   "metadata": {},
   "outputs": [
    {
     "name": "stdout",
     "output_type": "stream",
     "text": [
      "50/50 [==============================] - 0s 7ms/step\n",
      "\n",
      "---Now testing the model for one audio file---\n",
      "The model predicts: disco, and ground truth is: disco.\n",
      "\n"
     ]
    }
   ],
   "source": [
    "make_prediction(model, Xtest, ytest, 1598)"
   ]
  },
  {
   "cell_type": "code",
   "execution_count": 13,
   "metadata": {},
   "outputs": [
    {
     "data": {
      "image/png": "[encoded data removed]",
      "text/plain": [
       "<Figure size 432x288 with 1 Axes>"
      ]
     },
     "metadata": {
      "needs_background": "light"
     },
     "output_type": "display_data"
    },
    {
     "data": {
      "image/png": "[encoded data removed]",
      "text/plain": [
       "<Figure size 432x288 with 1 Axes>"
      ]
     },
     "metadata": {
      "needs_background": "light"
     },
     "output_type": "display_data"
    }
   ],
   "source": [
    "plot_performance(history)"
   ]
  },
  {
   "cell_type": "code",
   "execution_count": null,
   "metadata": {},
   "outputs": [],
   "source": []
  }
 ],
 "metadata": {
  "interpreter": {
   "hash": "88279d2366fe020547cde40dd65aa0e3aa662a6ec1f3ca12d88834876c85e1a6"
  },
  "kernelspec": {
   "display_name": "Python 3 (ipykernel)",
   "language": "python",
   "name": "python3"
  },
  "language_info": {
   "codemirror_mode": {
    "name": "ipython",
    "version": 3
   },
   "file_extension": ".py",
   "mimetype": "text/x-python",
   "name": "python",
   "nbconvert_exporter": "python",
   "pygments_lexer": "ipython3",
   "version": "3.9.12"
  }
 },
 "nbformat": 4,
 "nbformat_minor": 4
}
