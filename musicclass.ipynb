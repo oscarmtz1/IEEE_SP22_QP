{
 "cells": [
  {
   "cell_type": "markdown",
   "metadata": {},
   "source": [
    "## Music genre classifier with TensorFlow"
   ]
  },
  {
   "cell_type": "markdown",
   "metadata": {},
   "source": [
    "Author - Sagnick Bhar \n",
    "The objective of this project is to classify 30 sec wav files by genre using a TensorFLow LSTM model. The GTZAN dataset can be found here:\n",
    "\n",
    "https://www.kaggle.com/andradaolteanu/gtzan-dataset-music-genre-classification\n",
    "\n",
    "To classify audio samples, we will preprocess them by calculating their MFCC, which is a temporal representation of the energy for each perceived frequency band. In this case, we are choosing 13 bands."
   ]
  },
  {
   "cell_type": "code",
   "execution_count": 2,
   "metadata": {
    "execution": {
     "iopub.execute_input": "2022-05-01T14:44:22.06151Z",
     "iopub.status.busy": "2022-05-01T14:44:22.061176Z",
     "iopub.status.idle": "2022-05-01T14:44:27.802848Z",
     "shell.execute_reply": "2022-05-01T14:44:27.802023Z",
     "shell.execute_reply.started": "2022-05-01T14:44:22.061424Z"
    }
   },
   "outputs": [],
   "source": [
    "import os\n",
    "import json\n",
    "import numpy as np\n",
    "import librosa\n",
    "import matplotlib.pyplot as plt\n",
    "from sklearn.model_selection import train_test_split\n",
    "import tensorflow as tf"
   ]
  },
  {
   "cell_type": "code",
   "execution_count": 24,
   "metadata": {
    "execution": {
     "iopub.execute_input": "2022-05-01T14:44:27.804668Z",
     "iopub.status.busy": "2022-05-01T14:44:27.804425Z",
     "iopub.status.idle": "2022-05-01T14:44:27.810665Z",
     "shell.execute_reply": "2022-05-01T14:44:27.810009Z",
     "shell.execute_reply.started": "2022-05-01T14:44:27.804634Z"
    }
   },
   "outputs": [],
   "source": [
    "SOURCE_PATH = 'data\\genres_original'\n",
    "\n",
    "# Path to labels and processed data file, json format.\n",
    "JSON_PATH = 'data.json'\n",
    "\n",
    "# Sampling rate.\n",
    "sr = 22050\n",
    "\n",
    "# Let's make sure all files have the same amount of samples and pick a duration right under 30 seconds.\n",
    "TOTAL_SAMPLES = 29 * sr\n",
    "\n",
    "# The dataset contains 999 files. Lets make it bigger. \n",
    "# X amount of slices => X times more training examples.\n",
    "NUM_SLICES = 10\n",
    "SAMPLES_PER_SLICE = int(TOTAL_SAMPLES / NUM_SLICES)"
   ]
  },
  {
   "cell_type": "code",
   "execution_count": 25,
   "metadata": {
    "execution": {
     "iopub.execute_input": "2022-05-01T14:44:31.004251Z",
     "iopub.status.busy": "2022-05-01T14:44:31.003619Z",
     "iopub.status.idle": "2022-05-01T14:44:31.013902Z",
     "shell.execute_reply": "2022-05-01T14:44:31.013155Z",
     "shell.execute_reply.started": "2022-05-01T14:44:31.004214Z"
    }
   },
   "outputs": [],
   "source": [
    "def preprocess_data(source_path, json_path):\n",
    "\n",
    "    # Let's create a dictionary of labels and processed data.\n",
    "    mydict = {\n",
    "        \"labels\": [],\n",
    "        \"mfcc\": []\n",
    "        }\n",
    "\n",
    "    # Let's browse each file, slice it and generate the 13 band mfcc for each slice.\n",
    "    for i, (dirpath, dirnames, filenames) in enumerate(os.walk(source_path)):\n",
    "        for file in filenames:\n",
    "            # exclude a corrupted wav file that makes everything crash.\n",
    "            if os.path.join(dirpath, file) != 'data\\genres_original\\jazz\\jazz.00054.wav':\n",
    "                song, sr = librosa.load(os.path.join(dirpath, file), duration=29)\n",
    "                for s in range(NUM_SLICES):\n",
    "                    start_sample = SAMPLES_PER_SLICE * s\n",
    "                    end_sample = start_sample + SAMPLES_PER_SLICE\n",
    "                    mfcc = librosa.feature.mfcc(y=song[start_sample:end_sample], sr=sr, n_mfcc=13)\n",
    "                    mfcc = mfcc.T\n",
    "                    mydict[\"labels\"].append(i-1)\n",
    "                    mydict[\"mfcc\"].append(mfcc.tolist())\n",
    "            else:\n",
    "                pass\n",
    "\n",
    "    # Let's write the dictionary in a json file.    \n",
    "    with open(json_path, 'w') as f:\n",
    "        json.dump(mydict, f)\n",
    "    f.close()"
   ]
  },
  {
   "cell_type": "code",
   "execution_count": 26,
   "metadata": {
    "execution": {
     "iopub.execute_input": "2022-05-01T14:44:32.723219Z",
     "iopub.status.busy": "2022-05-01T14:44:32.722919Z",
     "iopub.status.idle": "2022-05-01T14:44:32.728823Z",
     "shell.execute_reply": "2022-05-01T14:44:32.727988Z",
     "shell.execute_reply.started": "2022-05-01T14:44:32.723181Z"
    }
   },
   "outputs": [],
   "source": [
    "def load_data(json_path):\n",
    "\n",
    "    with open(json_path, 'r') as f:\n",
    "        data = json.load(f)\n",
    "    f.close()\n",
    "\n",
    "    # Let's load our data into numpy arrays for TensorFlow compatibility.\n",
    "    X = np.array(data[\"mfcc\"])\n",
    "    y = np.array(data[\"labels\"])\n",
    "\n",
    "    return X, y"
   ]
  },
  {
   "cell_type": "code",
   "execution_count": 27,
   "metadata": {
    "execution": {
     "iopub.execute_input": "2022-05-01T14:44:34.037911Z",
     "iopub.status.busy": "2022-05-01T14:44:34.03731Z",
     "iopub.status.idle": "2022-05-01T14:44:34.048331Z",
     "shell.execute_reply": "2022-05-01T14:44:34.047393Z",
     "shell.execute_reply.started": "2022-05-01T14:44:34.037869Z"
    }
   },
   "outputs": [],
   "source": [
    "def prepare_datasets(inputs, targets, split_size):\n",
    "    \n",
    "    # Creating a validation set and a test set.\n",
    "    inputs_train, inputs_val, targets_train, targets_val = train_test_split(inputs, targets, test_size=split_size)\n",
    "    inputs_train, inputs_test, targets_train, targets_test = train_test_split(inputs_train, targets_train, test_size=split_size)\n",
    "    \n",
    "    # Our CNN model expects 3D input shape.\n",
    "    inputs_train = inputs_train[..., np.newaxis]\n",
    "    inputs_val = inputs_val[..., np.newaxis]\n",
    "    inputs_test = inputs_test[..., np.newaxis]\n",
    "    \n",
    "    return inputs_train, inputs_val, inputs_test, targets_train, targets_val, targets_test"
   ]
  },
  {
   "cell_type": "code",
   "execution_count": 28,
   "metadata": {
    "execution": {
     "iopub.execute_input": "2022-05-01T14:44:35.1597Z",
     "iopub.status.busy": "2022-05-01T14:44:35.159093Z",
     "iopub.status.idle": "2022-05-01T14:44:35.168315Z",
     "shell.execute_reply": "2022-05-01T14:44:35.167603Z",
     "shell.execute_reply.started": "2022-05-01T14:44:35.159654Z"
    }
   },
   "outputs": [],
   "source": [
    "def design_model(input_shape):\n",
    "\n",
    "    # Let's design the model architecture.\n",
    "    model = tf.keras.models.Sequential([\n",
    "        \n",
    "        tf.keras.layers.Conv2D(32, (3,3), activation='relu', input_shape=input_shape),\n",
    "        tf.keras.layers.MaxPooling2D((3,3), strides=(2,2), padding='same'),\n",
    "        tf.keras.layers.BatchNormalization(),\n",
    "        \n",
    "        tf.keras.layers.Conv2D(32, (3,3), activation='relu'),\n",
    "        tf.keras.layers.MaxPooling2D((3,3), strides=(2,2), padding='same'),\n",
    "        tf.keras.layers.BatchNormalization(),\n",
    "        \n",
    "        tf.keras.layers.Conv2D(32, (2,2), activation='relu'),\n",
    "        tf.keras.layers.MaxPooling2D((3,3), strides=(2,2), padding='same'),\n",
    "        tf.keras.layers.BatchNormalization(),\n",
    "        tf.keras.layers.Dropout(0.3),\n",
    "        \n",
    "        tf.keras.layers.Flatten(),\n",
    "        tf.keras.layers.Dense(64, activation='relu'), \n",
    "        tf.keras.layers.Dense(len(np.unique(targets)), activation='softmax')\n",
    "    ])\n",
    "\n",
    "    return model"
   ]
  },
  {
   "cell_type": "code",
   "execution_count": 60,
   "metadata": {
    "execution": {
     "iopub.execute_input": "2022-05-01T14:44:44.681212Z",
     "iopub.status.busy": "2022-05-01T14:44:44.680933Z",
     "iopub.status.idle": "2022-05-01T14:44:44.687659Z",
     "shell.execute_reply": "2022-05-01T14:44:44.686265Z",
     "shell.execute_reply.started": "2022-05-01T14:44:44.681176Z"
    }
   },
   "outputs": [],
   "source": [
    "def make_prediction(model, X, y, idx):\n",
    "    \n",
    "    genre_dict = {\n",
    "        0 : \"blues\",\n",
    "        1 : \"classical\",\n",
    "        2 : \"country\",\n",
    "        3 : \"disco\",\n",
    "        4 : \"hiphop\",\n",
    "        5 : \"jazz\",\n",
    "        6 : \"metal\",\n",
    "        7 : \"pop\",\n",
    "        8 : \"reggae\",\n",
    "        9 : \"rock\",\n",
    "        }\n",
    "        \n",
    "    predictions = model.predict(X)\n",
    "    genre = np.argmax(predictions[idx])\n",
    "    \n",
    "    #print(\"\\n---Now testing the model for one audio file---\\nThe model predicts: {}, and ground truth is: {}.\\n\".format(genre_dict[genre], genre_dict[y[idx]]))\n",
    "    print(\"\\n---Now testing the model for one audio file---\\nThe model predicts: {}, and ground truth is: reds\\n\".format(genre_dict[genre]))"
   ]
  },
  {
   "cell_type": "code",
   "execution_count": 30,
   "metadata": {
    "execution": {
     "iopub.execute_input": "2022-05-01T14:44:46.551104Z",
     "iopub.status.busy": "2022-05-01T14:44:46.550851Z",
     "iopub.status.idle": "2022-05-01T14:44:46.557758Z",
     "shell.execute_reply": "2022-05-01T14:44:46.556824Z",
     "shell.execute_reply.started": "2022-05-01T14:44:46.551077Z"
    }
   },
   "outputs": [],
   "source": [
    "def plot_performance(hist):\n",
    "    \n",
    "    acc = hist.history['acc']\n",
    "    val_acc = hist.history['val_acc']\n",
    "    loss = hist.history['loss']\n",
    "    val_loss = hist.history['val_loss']\n",
    "\n",
    "    epochs = range(len(acc))\n",
    "\n",
    "    plt.plot(epochs, acc, 'r', label='Training accuracy')\n",
    "    plt.plot(epochs, val_acc, 'b', label='Validation accuracy')\n",
    "    plt.title('Training and validation accuracy')\n",
    "    plt.legend()\n",
    "    plt.figure()\n",
    "\n",
    "    plt.plot(epochs, loss, 'r', label='Training Loss')\n",
    "    plt.plot(epochs, val_loss, 'b', label='Validation Loss')\n",
    "    plt.title('Training and validation loss')\n",
    "    plt.legend()\n",
    "\n",
    "    plt.show()"
   ]
  },
  {
   "cell_type": "code",
   "execution_count": 31,
   "metadata": {
    "execution": {
     "iopub.execute_input": "2022-05-01T14:44:50.734472Z",
     "iopub.status.busy": "2022-05-01T14:44:50.733919Z",
     "iopub.status.idle": "2022-05-01T14:47:03.519318Z",
     "shell.execute_reply": "2022-05-01T14:47:03.518259Z",
     "shell.execute_reply.started": "2022-05-01T14:44:50.734431Z"
    }
   },
   "outputs": [
    {
     "name": "stdout",
     "output_type": "stream",
     "text": [
      "Model: \"sequential_1\"\n",
      "_________________________________________________________________\n",
      " Layer (type)                Output Shape              Param #   \n",
      "=================================================================\n",
      " conv2d_3 (Conv2D)           (None, 123, 11, 32)       320       \n",
      "                                                                 \n",
      " max_pooling2d_3 (MaxPooling  (None, 62, 6, 32)        0         \n",
      " 2D)                                                             \n",
      "                                                                 \n",
      " batch_normalization_3 (Batc  (None, 62, 6, 32)        128       \n",
      " hNormalization)                                                 \n",
      "                                                                 \n",
      " conv2d_4 (Conv2D)           (None, 60, 4, 32)         9248      \n",
      "                                                                 \n",
      " max_pooling2d_4 (MaxPooling  (None, 30, 2, 32)        0         \n",
      " 2D)                                                             \n",
      "                                                                 \n",
      " batch_normalization_4 (Batc  (None, 30, 2, 32)        128       \n",
      " hNormalization)                                                 \n",
      "                                                                 \n",
      " conv2d_5 (Conv2D)           (None, 29, 1, 32)         4128      \n",
      "                                                                 \n",
      " max_pooling2d_5 (MaxPooling  (None, 15, 1, 32)        0         \n",
      " 2D)                                                             \n",
      "                                                                 \n",
      " batch_normalization_5 (Batc  (None, 15, 1, 32)        128       \n",
      " hNormalization)                                                 \n",
      "                                                                 \n",
      " dropout_1 (Dropout)         (None, 15, 1, 32)         0         \n",
      "                                                                 \n",
      " flatten_1 (Flatten)         (None, 480)               0         \n",
      "                                                                 \n",
      " dense_2 (Dense)             (None, 64)                30784     \n",
      "                                                                 \n",
      " dense_3 (Dense)             (None, 10)                650       \n",
      "                                                                 \n",
      "=================================================================\n",
      "Total params: 45,514\n",
      "Trainable params: 45,322\n",
      "Non-trainable params: 192\n",
      "_________________________________________________________________\n",
      "Epoch 1/30\n",
      "200/200 [==============================] - 7s 28ms/step - loss: 1.5968 - acc: 0.4544 - val_loss: 1.3477 - val_acc: 0.5055\n",
      "Epoch 2/30\n",
      "200/200 [==============================] - 6s 30ms/step - loss: 1.1708 - acc: 0.5839 - val_loss: 1.3692 - val_acc: 0.5080\n",
      "Epoch 3/30\n",
      "200/200 [==============================] - 5s 26ms/step - loss: 0.9880 - acc: 0.6452 - val_loss: 1.1003 - val_acc: 0.6176\n",
      "Epoch 4/30\n",
      "200/200 [==============================] - 6s 28ms/step - loss: 0.8799 - acc: 0.6881 - val_loss: 0.9798 - val_acc: 0.6617\n",
      "Epoch 5/30\n",
      "200/200 [==============================] - 6s 28ms/step - loss: 0.7825 - acc: 0.7283 - val_loss: 1.0098 - val_acc: 0.6617\n",
      "Epoch 6/30\n",
      "200/200 [==============================] - 5s 27ms/step - loss: 0.7152 - acc: 0.7491 - val_loss: 0.9659 - val_acc: 0.6837\n",
      "Epoch 7/30\n",
      "200/200 [==============================] - 6s 28ms/step - loss: 0.6640 - acc: 0.7646 - val_loss: 0.8439 - val_acc: 0.7142\n",
      "Epoch 8/30\n",
      "200/200 [==============================] - 6s 29ms/step - loss: 0.6098 - acc: 0.7879 - val_loss: 0.7650 - val_acc: 0.7447\n",
      "Epoch 9/30\n",
      "200/200 [==============================] - 6s 29ms/step - loss: 0.5712 - acc: 0.8017 - val_loss: 0.8650 - val_acc: 0.7242\n",
      "Epoch 10/30\n",
      "200/200 [==============================] - 6s 28ms/step - loss: 0.5252 - acc: 0.8150 - val_loss: 0.8040 - val_acc: 0.7457\n",
      "Epoch 11/30\n",
      "200/200 [==============================] - 6s 30ms/step - loss: 0.4945 - acc: 0.8234 - val_loss: 0.8995 - val_acc: 0.7417\n",
      "Epoch 12/30\n",
      "200/200 [==============================] - 6s 28ms/step - loss: 0.4645 - acc: 0.8394 - val_loss: 0.7512 - val_acc: 0.7588\n",
      "Epoch 13/30\n",
      "200/200 [==============================] - 6s 29ms/step - loss: 0.4430 - acc: 0.8455 - val_loss: 0.7370 - val_acc: 0.7798\n",
      "Epoch 14/30\n",
      "200/200 [==============================] - 5s 26ms/step - loss: 0.4214 - acc: 0.8469 - val_loss: 0.7314 - val_acc: 0.7723\n",
      "Epoch 15/30\n",
      "200/200 [==============================] - 5s 27ms/step - loss: 0.3964 - acc: 0.8555 - val_loss: 0.7525 - val_acc: 0.7738\n",
      "Epoch 16/30\n",
      "200/200 [==============================] - 5s 27ms/step - loss: 0.3868 - acc: 0.8603 - val_loss: 0.7242 - val_acc: 0.7803\n",
      "Epoch 17/30\n",
      "200/200 [==============================] - 5s 27ms/step - loss: 0.3502 - acc: 0.8735 - val_loss: 0.7813 - val_acc: 0.7588\n",
      "Epoch 18/30\n",
      "200/200 [==============================] - 5s 25ms/step - loss: 0.3464 - acc: 0.8803 - val_loss: 0.9532 - val_acc: 0.7548\n",
      "Epoch 19/30\n",
      "200/200 [==============================] - 5s 25ms/step - loss: 0.3253 - acc: 0.8844 - val_loss: 0.6713 - val_acc: 0.7978\n",
      "Epoch 20/30\n",
      "200/200 [==============================] - 5s 26ms/step - loss: 0.2951 - acc: 0.8932 - val_loss: 0.8011 - val_acc: 0.7713\n",
      "Epoch 21/30\n",
      "200/200 [==============================] - 5s 25ms/step - loss: 0.3016 - acc: 0.8891 - val_loss: 0.9342 - val_acc: 0.7387\n",
      "Epoch 22/30\n",
      "200/200 [==============================] - 5s 25ms/step - loss: 0.2952 - acc: 0.9013 - val_loss: 0.7405 - val_acc: 0.8013\n",
      "Epoch 23/30\n",
      "200/200 [==============================] - 6s 28ms/step - loss: 0.2733 - acc: 0.9030 - val_loss: 0.7960 - val_acc: 0.7823\n",
      "Epoch 24/30\n",
      "200/200 [==============================] - 6s 28ms/step - loss: 0.2782 - acc: 0.9033 - val_loss: 0.8746 - val_acc: 0.7372\n",
      "Epoch 25/30\n",
      "200/200 [==============================] - 6s 30ms/step - loss: 0.2642 - acc: 0.9076 - val_loss: 0.7266 - val_acc: 0.7828\n",
      "Epoch 26/30\n",
      "200/200 [==============================] - 5s 27ms/step - loss: 0.2585 - acc: 0.9090 - val_loss: 0.7800 - val_acc: 0.7863\n",
      "Epoch 27/30\n",
      "200/200 [==============================] - 6s 28ms/step - loss: 0.2571 - acc: 0.9082 - val_loss: 1.0651 - val_acc: 0.7227\n",
      "Epoch 28/30\n",
      "200/200 [==============================] - 5s 26ms/step - loss: 0.2372 - acc: 0.9152 - val_loss: 0.7045 - val_acc: 0.7898\n",
      "Epoch 29/30\n",
      "200/200 [==============================] - 5s 25ms/step - loss: 0.2480 - acc: 0.9113 - val_loss: 0.8055 - val_acc: 0.7733\n",
      "Epoch 30/30\n",
      "200/200 [==============================] - 5s 26ms/step - loss: 0.2128 - acc: 0.9251 - val_loss: 0.7332 - val_acc: 0.7938\n"
     ]
    },
    {
     "data": {
      "image/png": "[encoded data removed]",
      "text/plain": [
       "<Figure size 432x288 with 1 Axes>"
      ]
     },
     "metadata": {
      "needs_background": "light"
     },
     "output_type": "display_data"
    },
    {
     "data": {
      "image/png": "[encoded data removed]",
      "text/plain": [
       "<Figure size 432x288 with 1 Axes>"
      ]
     },
     "metadata": {
      "needs_background": "light"
     },
     "output_type": "display_data"
    },
    {
     "name": "stdout",
     "output_type": "stream",
     "text": [
      "50/50 [==============================] - 0s 6ms/step\n",
      "\n",
      "---Now testing the model for one audio file---\n",
      "The model predicts: blues, and ground truth is: blues.\n",
      "\n"
     ]
    }
   ],
   "source": [
    "if __name__ == \"__main__\":\n",
    "\n",
    "    preprocess_data(source_path=SOURCE_PATH, json_path=JSON_PATH)\n",
    "    \n",
    "    inputs, targets = load_data(json_path=JSON_PATH)\n",
    "    \n",
    "    Xtrain, Xval, Xtest, ytrain, yval, ytest = prepare_datasets(inputs, targets, 0.2)\n",
    "\n",
    "    input_shape = (Xtrain.shape[1], Xtrain.shape[2], 1)\n",
    "    model = design_model(input_shape)\n",
    "\n",
    "    # Selection of the optimizer, loss type and metrics for performance evaluation.\n",
    "    model.compile(optimizer = tf.keras.optimizers.RMSprop(lr=0.001),\n",
    "                     loss='sparse_categorical_crossentropy',\n",
    "                     metrics = ['acc']\n",
    "                     )\n",
    "\n",
    "    model.summary()\n",
    "\n",
    "    #Training the model.\n",
    "    history = model.fit(Xtrain, ytrain,\n",
    "                        validation_data=(Xval, yval),\n",
    "                        epochs=30,\n",
    "                        batch_size=32\n",
    "                        )\n",
    "\n",
    "    plot_performance(history)\n",
    "\n",
    "    # Testing the model on never seen before data.\n",
    "    make_prediction(model, Xtest, ytest, 24)"
   ]
  },
  {
   "cell_type": "markdown",
   "metadata": {},
   "source": [
    "**The End**"
   ]
  },
  {
   "cell_type": "code",
   "execution_count": 32,
   "metadata": {},
   "outputs": [
    {
     "name": "stdout",
     "output_type": "stream",
     "text": [
      "50/50 [==============================] - 0s 7ms/step\n",
      "\n",
      "---Now testing the model for one audio file---\n",
      "The model predicts: hiphop, and ground truth is: hiphop.\n",
      "\n"
     ]
    }
   ],
   "source": [
    "make_prediction(model, Xtest, ytest, 1598)"
   ]
  },
  {
   "cell_type": "code",
   "execution_count": 38,
   "metadata": {},
   "outputs": [],
   "source": [
    "new_model = tf.keras.models.load_model('mymodel')\n"
   ]
  },
  {
   "cell_type": "code",
   "execution_count": 62,
   "metadata": {},
   "outputs": [],
   "source": [
    "def tai_prediction(model, X, y, idx):\n",
    "    \n",
    "    genre_dict = {\n",
    "        0 : \"blues\",\n",
    "        1 : \"classical\",\n",
    "        2 : \"country\",\n",
    "        3 : \"disco\",\n",
    "        4 : \"hiphop\",\n",
    "        5 : \"jazz\",\n",
    "        6 : \"metal\",\n",
    "        7 : \"pop\",\n",
    "        8 : \"reggae\",\n",
    "        9 : \"rock\",\n",
    "        }\n",
    "        \n",
    "    predictions = model.predict(X)\n",
    "    genre = np.argmax(predictions[idx])\n",
    "    \n",
    "    #print(\"\\n---Now testing the model for one audio file---\\nThe model predicts: {}, and ground truth is: {}.\\n\".format(genre_dict[genre], genre_dict[y[idx]]))\n",
    "    print(\"\\n---Now testing the model for one audio file---\\nThe model predicts: {}, but what was it actually? \\n\".format(genre_dict[genre]))"
   ]
  },
  {
   "cell_type": "code",
   "execution_count": 64,
   "metadata": {},
   "outputs": [
    {
     "name": "stdout",
     "output_type": "stream",
     "text": [
      "1/1 [==============================] - 0s 20ms/step\n",
      "\n",
      "---Now testing the model for one audio file---\n",
      "The model predicts: disco, but what was it actually? \n",
      "\n"
     ]
    }
   ],
   "source": [
    "SOURCE_PATH = 'soundfile'\n",
    "\n",
    "# Path to labels and processed data file, json format.\n",
    "JSON_PATH = 'data.json'\n",
    "\n",
    "preprocess_data(source_path=SOURCE_PATH, json_path=JSON_PATH)\n",
    "inputs, targets = load_data(json_path=JSON_PATH)\n",
    "\n",
    "Xtrain, Xval, Xtest, ytrain, yval, ytest = prepare_datasets(inputs, targets, 0.2)\n",
    "tai_prediction(new_model,Xtest,ytest,2)"
   ]
  },
  {
   "cell_type": "code",
   "execution_count": 14,
   "metadata": {},
   "outputs": [
    {
     "ename": "NameError",
     "evalue": "name 'X' is not defined",
     "output_type": "error",
     "traceback": [
      "\u001b[1;31m---------------------------------------------------------------------------\u001b[0m",
      "\u001b[1;31mNameError\u001b[0m                                 Traceback (most recent call last)",
      "Input \u001b[1;32mIn [14]\u001b[0m, in \u001b[0;36m<cell line: 14>\u001b[1;34m()\u001b[0m\n\u001b[0;32m      1\u001b[0m genre_dict \u001b[38;5;241m=\u001b[39m {\n\u001b[0;32m      2\u001b[0m        \u001b[38;5;241m0\u001b[39m : \u001b[38;5;124m\"\u001b[39m\u001b[38;5;124mblues\u001b[39m\u001b[38;5;124m\"\u001b[39m,\n\u001b[0;32m      3\u001b[0m        \u001b[38;5;241m1\u001b[39m : \u001b[38;5;124m\"\u001b[39m\u001b[38;5;124mclassical\u001b[39m\u001b[38;5;124m\"\u001b[39m,\n\u001b[1;32m   (...)\u001b[0m\n\u001b[0;32m     11\u001b[0m        \u001b[38;5;241m9\u001b[39m : \u001b[38;5;124m\"\u001b[39m\u001b[38;5;124mrock\u001b[39m\u001b[38;5;124m\"\u001b[39m,\n\u001b[0;32m     12\u001b[0m        }\n\u001b[1;32m---> 14\u001b[0m predictions \u001b[38;5;241m=\u001b[39m model\u001b[38;5;241m.\u001b[39mpredict(\u001b[43mX\u001b[49m)\n\u001b[0;32m     15\u001b[0m genre \u001b[38;5;241m=\u001b[39m np\u001b[38;5;241m.\u001b[39margmax(predictions[idx])\n\u001b[0;32m     17\u001b[0m \u001b[38;5;28mprint\u001b[39m(\u001b[38;5;124m\"\u001b[39m\u001b[38;5;130;01m\\n\u001b[39;00m\u001b[38;5;124m---Now testing the model for one audio file---\u001b[39m\u001b[38;5;130;01m\\n\u001b[39;00m\u001b[38;5;124mThe model predicts: \u001b[39m\u001b[38;5;132;01m{}\u001b[39;00m\u001b[38;5;124m, and ground truth is: \u001b[39m\u001b[38;5;132;01m{}\u001b[39;00m\u001b[38;5;124m.\u001b[39m\u001b[38;5;130;01m\\n\u001b[39;00m\u001b[38;5;124m\"\u001b[39m\u001b[38;5;241m.\u001b[39mformat(genre_dict[genre], genre_dict[y[idx]]))\n",
      "\u001b[1;31mNameError\u001b[0m: name 'X' is not defined"
     ]
    }
   ],
   "source": [
    " genre_dict = {\n",
    "        0 : \"blues\",\n",
    "        1 : \"classical\",\n",
    "        2 : \"country\",\n",
    "        3 : \"disco\",\n",
    "        4 : \"hiphop\",\n",
    "        5 : \"jazz\",\n",
    "        6 : \"metal\",\n",
    "        7 : \"pop\",\n",
    "        8 : \"reggae\",\n",
    "        9 : \"rock\",\n",
    "        }\n",
    "        \n",
    "predictions = model.predict(X)\n",
    "genre = np.argmax(predictions[idx])\n",
    "    \n",
    "print(\"\\n---Now testing the model for one audio file---\\nThe model predicts: {}, and ground truth is: {}.\\n\".format(genre_dict[genre], genre_dict[y[idx]]))"
   ]
  },
  {
   "cell_type": "code",
   "execution_count": null,
   "metadata": {},
   "outputs": [],
   "source": []
  }
 ],
 "metadata": {
  "interpreter": {
   "hash": "88279d2366fe020547cde40dd65aa0e3aa662a6ec1f3ca12d88834876c85e1a6"
  },
  "kernelspec": {
   "display_name": "Python 3 (ipykernel)",
   "language": "python",
   "name": "python3"
  },
  "language_info": {
   "codemirror_mode": {
    "name": "ipython",
    "version": 3
   },
   "file_extension": ".py",
   "mimetype": "text/x-python",
   "name": "python",
   "nbconvert_exporter": "python",
   "pygments_lexer": "ipython3",
   "version": "3.9.12"
  }
 },
 "nbformat": 4,
 "nbformat_minor": 4
}
